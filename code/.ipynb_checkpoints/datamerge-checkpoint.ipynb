{
 "cells": [
  {
   "cell_type": "markdown",
   "metadata": {},
   "source": [
    "# TRANSFORMATION CODE\n",
    "by Hakob Antonian, Vito Perez, Gerard Tieng"
   ]
  },
  {
   "cell_type": "code",
   "execution_count": 1,
   "metadata": {},
   "outputs": [],
   "source": [
    "#import dependencies\n",
    "import pandas as pd\n",
    "import numpy as mp\n",
    "import datetime as dt"
   ]
  },
  {
   "cell_type": "markdown",
   "metadata": {},
   "source": [
    "# TRANSFORM STATS"
   ]
  },
  {
   "cell_type": "code",
   "execution_count": 2,
   "metadata": {},
   "outputs": [],
   "source": [
    "#read first stats table into pandas\n",
    "stats = pd.read_excel('nba_stats.xlsx', header=1)"
   ]
  },
  {
   "cell_type": "code",
   "execution_count": 3,
   "metadata": {},
   "outputs": [],
   "source": [
    "#drop unnecessary columns\n",
    "stats_colsdrop=[0, 7, 8, 16, 17, 26, 27, 28]\n",
    "statsV2 = stats.drop(stats.columns[stats_colsdrop], axis=1)"
   ]
  },
  {
   "cell_type": "code",
   "execution_count": 4,
   "metadata": {},
   "outputs": [],
   "source": [
    "#rename long columns\n",
    "statsV3 = statsV2.rename(\n",
    "    {statsV2.columns[6]:\"TOR%\",\n",
    "    statsV2.columns[13]:\"PPG\",\n",
    "    statsV2.columns[14]:\"RPG\",\n",
    "    statsV2.columns[15]:\"TRB%\",\n",
    "    statsV2.columns[16]:\"APG\",\n",
    "    statsV2.columns[17]:\"AST%\",\n",
    "    statsV2.columns[18]:\"SPG\",\n",
    "    statsV2.columns[19]:\"BPG\",\n",
    "    statsV2.columns[20]:\"TOPG\"}, axis=1)\n",
    "\n",
    "#uppercase team abbrev.\n",
    "statsV3[\"TEAM\"] = statsV3[\"TEAM\"].str.upper()\n",
    "statsV3 = statsV3.rename(columns={\"FULL NAME\": \"NAME\"})"
   ]
  },
  {
   "cell_type": "code",
   "execution_count": 5,
   "metadata": {},
   "outputs": [],
   "source": [
    "#sort by full name and reset index for key\n",
    "statsV3 = statsV3.sort_values(by=[\"NAME\", \"TEAM\"])\n",
    "statsV3 = statsV3.reset_index(drop=True)"
   ]
  },
  {
   "cell_type": "code",
   "execution_count": 33,
   "metadata": {
    "scrolled": true
   },
   "outputs": [
    {
     "data": {
      "text/html": [
       "<div>\n",
       "<style scoped>\n",
       "    .dataframe tbody tr th:only-of-type {\n",
       "        vertical-align: middle;\n",
       "    }\n",
       "\n",
       "    .dataframe tbody tr th {\n",
       "        vertical-align: top;\n",
       "    }\n",
       "\n",
       "    .dataframe thead th {\n",
       "        text-align: right;\n",
       "    }\n",
       "</style>\n",
       "<table border=\"1\" class=\"dataframe\">\n",
       "  <thead>\n",
       "    <tr style=\"text-align: right;\">\n",
       "      <th></th>\n",
       "      <th>NAME</th>\n",
       "      <th>TEAM</th>\n",
       "      <th>POS</th>\n",
       "      <th>AGE</th>\n",
       "      <th>GP</th>\n",
       "      <th>MPG</th>\n",
       "      <th>TOR%</th>\n",
       "      <th>FTA</th>\n",
       "      <th>FT%</th>\n",
       "      <th>2PA</th>\n",
       "      <th>...</th>\n",
       "      <th>3PA</th>\n",
       "      <th>3P%</th>\n",
       "      <th>PPG</th>\n",
       "      <th>RPG</th>\n",
       "      <th>TRB%</th>\n",
       "      <th>APG</th>\n",
       "      <th>AST%</th>\n",
       "      <th>SPG</th>\n",
       "      <th>BPG</th>\n",
       "      <th>TOPG</th>\n",
       "    </tr>\n",
       "  </thead>\n",
       "  <tbody>\n",
       "    <tr>\n",
       "      <td>0</td>\n",
       "      <td>Aaron Gordon</td>\n",
       "      <td>ORL</td>\n",
       "      <td>F</td>\n",
       "      <td>23.57</td>\n",
       "      <td>78</td>\n",
       "      <td>33.8</td>\n",
       "      <td>12.3</td>\n",
       "      <td>253</td>\n",
       "      <td>0.731</td>\n",
       "      <td>699</td>\n",
       "      <td>...</td>\n",
       "      <td>347</td>\n",
       "      <td>0.349</td>\n",
       "      <td>16.0</td>\n",
       "      <td>7.3</td>\n",
       "      <td>11.7</td>\n",
       "      <td>3.7</td>\n",
       "      <td>16.6</td>\n",
       "      <td>0.73</td>\n",
       "      <td>0.72</td>\n",
       "      <td>2.08</td>\n",
       "    </tr>\n",
       "    <tr>\n",
       "      <td>1</td>\n",
       "      <td>Aaron Holiday</td>\n",
       "      <td>IND</td>\n",
       "      <td>G</td>\n",
       "      <td>22.53</td>\n",
       "      <td>50</td>\n",
       "      <td>12.9</td>\n",
       "      <td>12.3</td>\n",
       "      <td>50</td>\n",
       "      <td>0.820</td>\n",
       "      <td>135</td>\n",
       "      <td>...</td>\n",
       "      <td>127</td>\n",
       "      <td>0.339</td>\n",
       "      <td>5.9</td>\n",
       "      <td>1.3</td>\n",
       "      <td>5.7</td>\n",
       "      <td>1.7</td>\n",
       "      <td>19.3</td>\n",
       "      <td>0.40</td>\n",
       "      <td>0.26</td>\n",
       "      <td>0.80</td>\n",
       "    </tr>\n",
       "    <tr>\n",
       "      <td>2</td>\n",
       "      <td>Abdel Nader</td>\n",
       "      <td>OKC</td>\n",
       "      <td>F</td>\n",
       "      <td>25.54</td>\n",
       "      <td>61</td>\n",
       "      <td>11.4</td>\n",
       "      <td>10.1</td>\n",
       "      <td>36</td>\n",
       "      <td>0.750</td>\n",
       "      <td>115</td>\n",
       "      <td>...</td>\n",
       "      <td>100</td>\n",
       "      <td>0.320</td>\n",
       "      <td>4.0</td>\n",
       "      <td>1.9</td>\n",
       "      <td>8.6</td>\n",
       "      <td>0.3</td>\n",
       "      <td>3.8</td>\n",
       "      <td>0.33</td>\n",
       "      <td>0.20</td>\n",
       "      <td>0.43</td>\n",
       "    </tr>\n",
       "    <tr>\n",
       "      <td>3</td>\n",
       "      <td>Al Horford</td>\n",
       "      <td>BOS</td>\n",
       "      <td>F-C</td>\n",
       "      <td>32.86</td>\n",
       "      <td>68</td>\n",
       "      <td>29.0</td>\n",
       "      <td>11.8</td>\n",
       "      <td>97</td>\n",
       "      <td>0.825</td>\n",
       "      <td>520</td>\n",
       "      <td>...</td>\n",
       "      <td>203</td>\n",
       "      <td>0.360</td>\n",
       "      <td>13.6</td>\n",
       "      <td>6.7</td>\n",
       "      <td>12.4</td>\n",
       "      <td>4.1</td>\n",
       "      <td>21.1</td>\n",
       "      <td>0.85</td>\n",
       "      <td>1.26</td>\n",
       "      <td>1.50</td>\n",
       "    </tr>\n",
       "    <tr>\n",
       "      <td>4</td>\n",
       "      <td>Al-Farouq Aminu</td>\n",
       "      <td>POR</td>\n",
       "      <td>F</td>\n",
       "      <td>28.55</td>\n",
       "      <td>81</td>\n",
       "      <td>28.3</td>\n",
       "      <td>9.7</td>\n",
       "      <td>173</td>\n",
       "      <td>0.867</td>\n",
       "      <td>313</td>\n",
       "      <td>...</td>\n",
       "      <td>280</td>\n",
       "      <td>0.343</td>\n",
       "      <td>9.4</td>\n",
       "      <td>7.5</td>\n",
       "      <td>14.2</td>\n",
       "      <td>1.3</td>\n",
       "      <td>6.0</td>\n",
       "      <td>0.84</td>\n",
       "      <td>0.41</td>\n",
       "      <td>0.89</td>\n",
       "    </tr>\n",
       "  </tbody>\n",
       "</table>\n",
       "<p>5 rows × 21 columns</p>\n",
       "</div>"
      ],
      "text/plain": [
       "              NAME TEAM  POS    AGE  GP   MPG  TOR%  FTA    FT%  2PA  ...  \\\n",
       "0     Aaron Gordon  ORL    F  23.57  78  33.8  12.3  253  0.731  699  ...   \n",
       "1    Aaron Holiday  IND    G  22.53  50  12.9  12.3   50  0.820  135  ...   \n",
       "2      Abdel Nader  OKC    F  25.54  61  11.4  10.1   36  0.750  115  ...   \n",
       "3       Al Horford  BOS  F-C  32.86  68  29.0  11.8   97  0.825  520  ...   \n",
       "4  Al-Farouq Aminu  POR    F  28.55  81  28.3   9.7  173  0.867  313  ...   \n",
       "\n",
       "   3PA    3P%   PPG  RPG  TRB%  APG  AST%   SPG   BPG  TOPG  \n",
       "0  347  0.349  16.0  7.3  11.7  3.7  16.6  0.73  0.72  2.08  \n",
       "1  127  0.339   5.9  1.3   5.7  1.7  19.3  0.40  0.26  0.80  \n",
       "2  100  0.320   4.0  1.9   8.6  0.3   3.8  0.33  0.20  0.43  \n",
       "3  203  0.360  13.6  6.7  12.4  4.1  21.1  0.85  1.26  1.50  \n",
       "4  280  0.343   9.4  7.5  14.2  1.3   6.0  0.84  0.41  0.89  \n",
       "\n",
       "[5 rows x 21 columns]"
      ]
     },
     "execution_count": 33,
     "metadata": {},
     "output_type": "execute_result"
    }
   ],
   "source": [
    "statsV3.head()"
   ]
  },
  {
   "cell_type": "markdown",
   "metadata": {},
   "source": [
    "# TRANSFORM PLAYER INFO"
   ]
  },
  {
   "cell_type": "code",
   "execution_count": 7,
   "metadata": {},
   "outputs": [],
   "source": [
    "#read info CSV\n",
    "info = pd.read_csv('nba_playerinfo.csv')"
   ]
  },
  {
   "cell_type": "code",
   "execution_count": 8,
   "metadata": {},
   "outputs": [],
   "source": [
    "#drop unecessary columns\n",
    "info_colsdrop = [3, 4, 5, 6, 7, 8, 9, 10, 11, 12, 21]\n",
    "infoV2 = info.drop(info.columns[info_colsdrop], axis=1)"
   ]
  },
  {
   "cell_type": "code",
   "execution_count": 9,
   "metadata": {},
   "outputs": [],
   "source": [
    "#convert birthdates to datetime\n",
    "infoV2['birthDate'] = pd.to_datetime(infoV2['birthDate'])"
   ]
  },
  {
   "cell_type": "code",
   "execution_count": 10,
   "metadata": {},
   "outputs": [],
   "source": [
    "#eliminate records of players older than the oldest active player, Vince Carter\n",
    "infoV3 = infoV2[(infoV2['birthDate'] >= '1977-01-26')]"
   ]
  },
  {
   "cell_type": "code",
   "execution_count": 11,
   "metadata": {},
   "outputs": [],
   "source": [
    "#reorder columns\n",
    "infoV3 = infoV3[['_id',\n",
    "                 'name',\n",
    "                'height', \n",
    "                'weight', \n",
    "                'shoots',\n",
    "                'birthDate',\n",
    "                'birthPlace',\n",
    "                'college',\n",
    "                'highSchool',\n",
    "                'draft_team',\n",
    "                'draft_pick',\n",
    "                'draft_round',\n",
    "                'draft_year']]\n",
    "\n",
    "infoV3 = infoV3.sort_values(by=['name'])\n",
    "infoV3 = infoV3.reset_index(drop=True)"
   ]
  },
  {
   "cell_type": "code",
   "execution_count": 35,
   "metadata": {},
   "outputs": [
    {
     "data": {
      "text/html": [
       "<div>\n",
       "<style scoped>\n",
       "    .dataframe tbody tr th:only-of-type {\n",
       "        vertical-align: middle;\n",
       "    }\n",
       "\n",
       "    .dataframe tbody tr th {\n",
       "        vertical-align: top;\n",
       "    }\n",
       "\n",
       "    .dataframe thead th {\n",
       "        text-align: right;\n",
       "    }\n",
       "</style>\n",
       "<table border=\"1\" class=\"dataframe\">\n",
       "  <thead>\n",
       "    <tr style=\"text-align: right;\">\n",
       "      <th></th>\n",
       "      <th>_id</th>\n",
       "      <th>name</th>\n",
       "      <th>height</th>\n",
       "      <th>weight</th>\n",
       "      <th>shoots</th>\n",
       "      <th>birthDate</th>\n",
       "      <th>birthPlace</th>\n",
       "      <th>college</th>\n",
       "      <th>highSchool</th>\n",
       "      <th>draft_team</th>\n",
       "      <th>draft_pick</th>\n",
       "      <th>draft_round</th>\n",
       "      <th>draft_year</th>\n",
       "    </tr>\n",
       "  </thead>\n",
       "  <tbody>\n",
       "    <tr>\n",
       "      <td>0</td>\n",
       "      <td>guytoaj01</td>\n",
       "      <td>A.J. Guyton</td>\n",
       "      <td>6-1</td>\n",
       "      <td>180lb</td>\n",
       "      <td>Right</td>\n",
       "      <td>1978-02-12</td>\n",
       "      <td>Peoria, Illinois</td>\n",
       "      <td>Indiana University</td>\n",
       "      <td>Central in Peoria, Illinois</td>\n",
       "      <td>Chicago Bulls</td>\n",
       "      <td>32nd overall</td>\n",
       "      <td>2nd round</td>\n",
       "      <td>2000</td>\n",
       "    </tr>\n",
       "    <tr>\n",
       "      <td>1</td>\n",
       "      <td>hammoaj01</td>\n",
       "      <td>A.J. Hammons</td>\n",
       "      <td>7-0</td>\n",
       "      <td>260lb</td>\n",
       "      <td>Right</td>\n",
       "      <td>1992-08-27</td>\n",
       "      <td>Gary, Indiana</td>\n",
       "      <td>Purdue University</td>\n",
       "      <td>Oak Hill Academy in Mouth of Wilson, Virginia</td>\n",
       "      <td>Dallas Mavericks</td>\n",
       "      <td>46th overall</td>\n",
       "      <td>2nd round</td>\n",
       "      <td>2016</td>\n",
       "    </tr>\n",
       "    <tr>\n",
       "      <td>2</td>\n",
       "      <td>priceaj01</td>\n",
       "      <td>A.J. Price</td>\n",
       "      <td>6-2</td>\n",
       "      <td>181lb</td>\n",
       "      <td>Right</td>\n",
       "      <td>1986-10-07</td>\n",
       "      <td>Orange, New Jersey</td>\n",
       "      <td>University of Connecticut</td>\n",
       "      <td>Amityville Memorial in Amityville, New York</td>\n",
       "      <td>Indiana Pacers</td>\n",
       "      <td>52nd overall</td>\n",
       "      <td>2nd round</td>\n",
       "      <td>2009</td>\n",
       "    </tr>\n",
       "    <tr>\n",
       "      <td>3</td>\n",
       "      <td>brookaa01</td>\n",
       "      <td>Aaron Brooks</td>\n",
       "      <td>6-0</td>\n",
       "      <td>161lb</td>\n",
       "      <td>Right</td>\n",
       "      <td>1985-01-14</td>\n",
       "      <td>Seattle, Washington</td>\n",
       "      <td>University of Oregon</td>\n",
       "      <td>Franklin in Seattle, Washington</td>\n",
       "      <td>Houston Rockets</td>\n",
       "      <td>26th overall</td>\n",
       "      <td>1st round</td>\n",
       "      <td>2007</td>\n",
       "    </tr>\n",
       "    <tr>\n",
       "      <td>4</td>\n",
       "      <td>gordoaa01</td>\n",
       "      <td>Aaron Gordon</td>\n",
       "      <td>6-9</td>\n",
       "      <td>220lb</td>\n",
       "      <td>Right</td>\n",
       "      <td>1995-09-16</td>\n",
       "      <td>San Jose, California</td>\n",
       "      <td>University of Arizona</td>\n",
       "      <td>Archbishop Mitty in San Jose, California</td>\n",
       "      <td>Orlando Magic</td>\n",
       "      <td>4th overall</td>\n",
       "      <td>1st round</td>\n",
       "      <td>2014</td>\n",
       "    </tr>\n",
       "  </tbody>\n",
       "</table>\n",
       "</div>"
      ],
      "text/plain": [
       "         _id          name height weight shoots  birthDate  \\\n",
       "0  guytoaj01   A.J. Guyton    6-1  180lb  Right 1978-02-12   \n",
       "1  hammoaj01  A.J. Hammons    7-0  260lb  Right 1992-08-27   \n",
       "2  priceaj01    A.J. Price    6-2  181lb  Right 1986-10-07   \n",
       "3  brookaa01  Aaron Brooks    6-0  161lb  Right 1985-01-14   \n",
       "4  gordoaa01  Aaron Gordon    6-9  220lb  Right 1995-09-16   \n",
       "\n",
       "             birthPlace                    college  \\\n",
       "0      Peoria, Illinois         Indiana University   \n",
       "1         Gary, Indiana          Purdue University   \n",
       "2    Orange, New Jersey  University of Connecticut   \n",
       "3   Seattle, Washington       University of Oregon   \n",
       "4  San Jose, California      University of Arizona   \n",
       "\n",
       "                                      highSchool        draft_team  \\\n",
       "0                    Central in Peoria, Illinois     Chicago Bulls   \n",
       "1  Oak Hill Academy in Mouth of Wilson, Virginia  Dallas Mavericks   \n",
       "2    Amityville Memorial in Amityville, New York    Indiana Pacers   \n",
       "3                Franklin in Seattle, Washington   Houston Rockets   \n",
       "4       Archbishop Mitty in San Jose, California     Orlando Magic   \n",
       "\n",
       "     draft_pick draft_round draft_year  \n",
       "0  32nd overall   2nd round       2000  \n",
       "1  46th overall   2nd round       2016  \n",
       "2  52nd overall   2nd round       2009  \n",
       "3  26th overall   1st round       2007  \n",
       "4   4th overall   1st round       2014  "
      ]
     },
     "execution_count": 35,
     "metadata": {},
     "output_type": "execute_result"
    }
   ],
   "source": [
    "#final info table\n",
    "infoV3.head()"
   ]
  },
  {
   "cell_type": "markdown",
   "metadata": {},
   "source": [
    "# TRANSFORM PLAYER TATTOOS"
   ]
  },
  {
   "cell_type": "code",
   "execution_count": 13,
   "metadata": {},
   "outputs": [],
   "source": [
    "#load tattoos csv\n",
    "tattoos = pd.read_csv('nba_tattoos.csv')"
   ]
  },
  {
   "cell_type": "code",
   "execution_count": 14,
   "metadata": {},
   "outputs": [],
   "source": [
    "#clean up column names\n",
    "tattoos = tattoos.rename(columns={'Player Name': 'name', \"Tattoos yes/no\": \"tattoo\"})"
   ]
  },
  {
   "cell_type": "code",
   "execution_count": 15,
   "metadata": {},
   "outputs": [
    {
     "data": {
      "text/html": [
       "<div>\n",
       "<style scoped>\n",
       "    .dataframe tbody tr th:only-of-type {\n",
       "        vertical-align: middle;\n",
       "    }\n",
       "\n",
       "    .dataframe tbody tr th {\n",
       "        vertical-align: top;\n",
       "    }\n",
       "\n",
       "    .dataframe thead th {\n",
       "        text-align: right;\n",
       "    }\n",
       "</style>\n",
       "<table border=\"1\" class=\"dataframe\">\n",
       "  <thead>\n",
       "    <tr style=\"text-align: right;\">\n",
       "      <th></th>\n",
       "      <th>name</th>\n",
       "      <th>tattoo</th>\n",
       "    </tr>\n",
       "  </thead>\n",
       "  <tbody>\n",
       "    <tr>\n",
       "      <td>0</td>\n",
       "      <td>A.J. Price</td>\n",
       "      <td>no</td>\n",
       "    </tr>\n",
       "    <tr>\n",
       "      <td>1</td>\n",
       "      <td>Aaron Gray</td>\n",
       "      <td>no</td>\n",
       "    </tr>\n",
       "    <tr>\n",
       "      <td>2</td>\n",
       "      <td>Al Horford</td>\n",
       "      <td>no</td>\n",
       "    </tr>\n",
       "    <tr>\n",
       "      <td>3</td>\n",
       "      <td>Al Jefferson</td>\n",
       "      <td>no</td>\n",
       "    </tr>\n",
       "    <tr>\n",
       "      <td>4</td>\n",
       "      <td>Al Thornton</td>\n",
       "      <td>no</td>\n",
       "    </tr>\n",
       "  </tbody>\n",
       "</table>\n",
       "</div>"
      ],
      "text/plain": [
       "           name tattoo\n",
       "0    A.J. Price     no\n",
       "1    Aaron Gray     no\n",
       "2    Al Horford     no\n",
       "3  Al Jefferson     no\n",
       "4   Al Thornton     no"
      ]
     },
     "execution_count": 15,
     "metadata": {},
     "output_type": "execute_result"
    }
   ],
   "source": [
    "#inspect final table\n",
    "tattoos.head()"
   ]
  },
  {
   "cell_type": "markdown",
   "metadata": {},
   "source": [
    "# TRANSFORM SALARIES"
   ]
  },
  {
   "cell_type": "code",
   "execution_count": 16,
   "metadata": {},
   "outputs": [],
   "source": [
    "#load salaries csv\n",
    "salaries = pd.read_csv('nba_salaries.csv')"
   ]
  },
  {
   "cell_type": "code",
   "execution_count": 17,
   "metadata": {},
   "outputs": [],
   "source": [
    "#drop unecessary columns\n",
    "salaries = salaries.drop(columns=['league', \"season_start\", \"season\"])"
   ]
  },
  {
   "cell_type": "code",
   "execution_count": 18,
   "metadata": {},
   "outputs": [],
   "source": [
    "#subset data to most recent season\n",
    "salaries = salaries[(salaries['season_end'] == 2018)]"
   ]
  },
  {
   "cell_type": "code",
   "execution_count": 19,
   "metadata": {},
   "outputs": [],
   "source": [
    "#reset index for cleanliness\n",
    "salaries = salaries.reset_index(drop=True)"
   ]
  },
  {
   "cell_type": "code",
   "execution_count": 20,
   "metadata": {},
   "outputs": [
    {
     "data": {
      "text/html": [
       "<div>\n",
       "<style scoped>\n",
       "    .dataframe tbody tr th:only-of-type {\n",
       "        vertical-align: middle;\n",
       "    }\n",
       "\n",
       "    .dataframe tbody tr th {\n",
       "        vertical-align: top;\n",
       "    }\n",
       "\n",
       "    .dataframe thead th {\n",
       "        text-align: right;\n",
       "    }\n",
       "</style>\n",
       "<table border=\"1\" class=\"dataframe\">\n",
       "  <thead>\n",
       "    <tr style=\"text-align: right;\">\n",
       "      <th></th>\n",
       "      <th>player_id</th>\n",
       "      <th>salary</th>\n",
       "      <th>season_end</th>\n",
       "      <th>team</th>\n",
       "    </tr>\n",
       "  </thead>\n",
       "  <tbody>\n",
       "    <tr>\n",
       "      <td>0</td>\n",
       "      <td>abrinal01</td>\n",
       "      <td>5725000</td>\n",
       "      <td>2018</td>\n",
       "      <td>Oklahoma City Thunder</td>\n",
       "    </tr>\n",
       "    <tr>\n",
       "      <td>1</td>\n",
       "      <td>acyqu01</td>\n",
       "      <td>1709538</td>\n",
       "      <td>2018</td>\n",
       "      <td>Brooklyn Nets</td>\n",
       "    </tr>\n",
       "    <tr>\n",
       "      <td>2</td>\n",
       "      <td>adamsst01</td>\n",
       "      <td>22471910</td>\n",
       "      <td>2018</td>\n",
       "      <td>Oklahoma City Thunder</td>\n",
       "    </tr>\n",
       "    <tr>\n",
       "      <td>3</td>\n",
       "      <td>adebaba01</td>\n",
       "      <td>2490360</td>\n",
       "      <td>2018</td>\n",
       "      <td>Miami Heat</td>\n",
       "    </tr>\n",
       "    <tr>\n",
       "      <td>4</td>\n",
       "      <td>afflaar01</td>\n",
       "      <td>1500000</td>\n",
       "      <td>2018</td>\n",
       "      <td>Sacramento Kings</td>\n",
       "    </tr>\n",
       "  </tbody>\n",
       "</table>\n",
       "</div>"
      ],
      "text/plain": [
       "   player_id    salary  season_end                   team\n",
       "0  abrinal01   5725000        2018  Oklahoma City Thunder\n",
       "1    acyqu01   1709538        2018          Brooklyn Nets\n",
       "2  adamsst01  22471910        2018  Oklahoma City Thunder\n",
       "3  adebaba01   2490360        2018             Miami Heat\n",
       "4  afflaar01   1500000        2018       Sacramento Kings"
      ]
     },
     "execution_count": 20,
     "metadata": {},
     "output_type": "execute_result"
    }
   ],
   "source": [
    "salaries.head()"
   ]
  },
  {
   "cell_type": "markdown",
   "metadata": {},
   "source": [
    "# TRANSFORM NUMBERS"
   ]
  },
  {
   "cell_type": "code",
   "execution_count": 21,
   "metadata": {},
   "outputs": [],
   "source": [
    "#load numbers csv\n",
    "numbers = pd.read_csv('nba_playernumbers.csv')"
   ]
  },
  {
   "cell_type": "code",
   "execution_count": 22,
   "metadata": {},
   "outputs": [],
   "source": [
    "#change player number to string to preserve '00' in numeric conversion\n",
    "numbers['player_number'] = numbers['player_number'].astype(str)\n",
    "\n",
    "#cleanup columns\n",
    "numbers = numbers.drop(columns='Unnamed: 0')"
   ]
  },
  {
   "cell_type": "code",
   "execution_count": 23,
   "metadata": {},
   "outputs": [
    {
     "data": {
      "text/html": [
       "<div>\n",
       "<style scoped>\n",
       "    .dataframe tbody tr th:only-of-type {\n",
       "        vertical-align: middle;\n",
       "    }\n",
       "\n",
       "    .dataframe tbody tr th {\n",
       "        vertical-align: top;\n",
       "    }\n",
       "\n",
       "    .dataframe thead th {\n",
       "        text-align: right;\n",
       "    }\n",
       "</style>\n",
       "<table border=\"1\" class=\"dataframe\">\n",
       "  <thead>\n",
       "    <tr style=\"text-align: right;\">\n",
       "      <th></th>\n",
       "      <th>player_name</th>\n",
       "      <th>player_number</th>\n",
       "      <th>player_team</th>\n",
       "    </tr>\n",
       "  </thead>\n",
       "  <tbody>\n",
       "    <tr>\n",
       "      <td>0</td>\n",
       "      <td>Corey Brewer</td>\n",
       "      <td>0</td>\n",
       "      <td>PHI</td>\n",
       "    </tr>\n",
       "    <tr>\n",
       "      <td>1</td>\n",
       "      <td>Willie Cauley-Stein</td>\n",
       "      <td>0</td>\n",
       "      <td>SAC</td>\n",
       "    </tr>\n",
       "    <tr>\n",
       "      <td>2</td>\n",
       "      <td>Aaron Gordon</td>\n",
       "      <td>0</td>\n",
       "      <td>ORL</td>\n",
       "    </tr>\n",
       "    <tr>\n",
       "      <td>3</td>\n",
       "      <td>Enes Kanter</td>\n",
       "      <td>0</td>\n",
       "      <td>NYK</td>\n",
       "    </tr>\n",
       "    <tr>\n",
       "      <td>4</td>\n",
       "      <td>Enes Kanter</td>\n",
       "      <td>0</td>\n",
       "      <td>POR</td>\n",
       "    </tr>\n",
       "  </tbody>\n",
       "</table>\n",
       "</div>"
      ],
      "text/plain": [
       "           player_name player_number player_team\n",
       "0         Corey Brewer             0         PHI\n",
       "1  Willie Cauley-Stein             0         SAC\n",
       "2         Aaron Gordon             0         ORL\n",
       "3          Enes Kanter             0         NYK\n",
       "4          Enes Kanter             0         POR"
      ]
     },
     "execution_count": 23,
     "metadata": {},
     "output_type": "execute_result"
    }
   ],
   "source": [
    "#inspect final table\n",
    "numbers.head()"
   ]
  },
  {
   "cell_type": "markdown",
   "metadata": {},
   "source": [
    "# JOIN ALL TABLES"
   ]
  },
  {
   "cell_type": "code",
   "execution_count": 24,
   "metadata": {},
   "outputs": [],
   "source": [
    "#merge largest table (info) with salaries on unique ID\n",
    "mergeV1 = infoV3.merge(salaries, how='left', left_on='_id', right_on='player_id').drop(columns=['season_end', \"team\"])"
   ]
  },
  {
   "cell_type": "code",
   "execution_count": 25,
   "metadata": {},
   "outputs": [],
   "source": [
    "#merge info/salaries + second largest table (stats)\n",
    "mergeV2 = statsV3.merge(mergeV1, how='left', left_on='NAME', right_on='name').drop(columns=['name'])"
   ]
  },
  {
   "cell_type": "code",
   "execution_count": 26,
   "metadata": {},
   "outputs": [],
   "source": [
    "#merge info/salaries + next largest table (numbers)\n",
    "mergeV3 = mergeV2.merge(numbers, how='left', left_on=['NAME', 'TEAM'], right_on=['player_name', 'player_team']).drop(columns=['player_name', 'player_team'])"
   ]
  },
  {
   "cell_type": "code",
   "execution_count": 27,
   "metadata": {},
   "outputs": [],
   "source": [
    "#merge info/salaries/numbers + tattoo)\n",
    "mergeV4 = mergeV3.merge(tattoos, how='left', left_on='NAME', right_on='name').drop(columns=['name'])"
   ]
  },
  {
   "cell_type": "code",
   "execution_count": 28,
   "metadata": {},
   "outputs": [],
   "source": [
    "#cleanup column names\n",
    "mergeV4.columns = map(str.lower, mergeV4.columns)"
   ]
  },
  {
   "cell_type": "code",
   "execution_count": 30,
   "metadata": {},
   "outputs": [
    {
     "name": "stdout",
     "output_type": "stream",
     "text": [
      "<class 'pandas.core.frame.DataFrame'>\n",
      "Int64Index: 643 entries, 0 to 642\n",
      "Data columns (total 37 columns):\n",
      "name             643 non-null object\n",
      "team             643 non-null object\n",
      "pos              643 non-null object\n",
      "age              643 non-null float64\n",
      "gp               643 non-null int64\n",
      "mpg              643 non-null float64\n",
      "tor%             637 non-null float64\n",
      "fta              643 non-null int64\n",
      "ft%              643 non-null float64\n",
      "2pa              643 non-null int64\n",
      "2p%              643 non-null float64\n",
      "3pa              643 non-null int64\n",
      "3p%              643 non-null float64\n",
      "ppg              643 non-null float64\n",
      "rpg              643 non-null float64\n",
      "trb%             643 non-null float64\n",
      "apg              643 non-null float64\n",
      "ast%             643 non-null float64\n",
      "spg              643 non-null float64\n",
      "bpg              643 non-null float64\n",
      "topg             643 non-null float64\n",
      "_id              613 non-null object\n",
      "height           613 non-null object\n",
      "weight           613 non-null object\n",
      "shoots           613 non-null object\n",
      "birthdate        613 non-null datetime64[ns]\n",
      "birthplace       613 non-null object\n",
      "college          521 non-null object\n",
      "highschool       537 non-null object\n",
      "draft_team       469 non-null object\n",
      "draft_pick       469 non-null object\n",
      "draft_round      469 non-null object\n",
      "draft_year       469 non-null object\n",
      "player_id        475 non-null object\n",
      "salary           475 non-null float64\n",
      "player_number    482 non-null object\n",
      "tattoo           252 non-null object\n",
      "dtypes: datetime64[ns](1), float64(15), int64(4), object(17)\n",
      "memory usage: 190.9+ KB\n"
     ]
    }
   ],
   "source": [
    "#final inspection\n",
    "mergeV4.info()"
   ]
  },
  {
   "cell_type": "code",
   "execution_count": 29,
   "metadata": {},
   "outputs": [],
   "source": [
    "#export to csv\n",
    "finaldata = mergeV4\n",
    "finaldata_export = mergeV4.to_csv('finaldata.csv')"
   ]
  },
  {
   "cell_type": "markdown",
   "metadata": {},
   "source": [
    "# INSERT TO SQL"
   ]
  },
  {
   "cell_type": "code",
   "execution_count": null,
   "metadata": {},
   "outputs": [],
   "source": [
    "from sqlalchemy import create_engine\n",
    "engine = create_engine('sqlite://', echo=False)"
   ]
  },
  {
   "cell_type": "code",
   "execution_count": null,
   "metadata": {},
   "outputs": [],
   "source": [
    "finaldata.to_sql('nba2018', con=engine)"
   ]
  }
 ],
 "metadata": {
  "kernelspec": {
   "display_name": "Python 3",
   "language": "python",
   "name": "python3"
  },
  "language_info": {
   "codemirror_mode": {
    "name": "ipython",
    "version": 3
   },
   "file_extension": ".py",
   "mimetype": "text/x-python",
   "name": "python",
   "nbconvert_exporter": "python",
   "pygments_lexer": "ipython3",
   "version": "3.7.4"
  }
 },
 "nbformat": 4,
 "nbformat_minor": 2
}

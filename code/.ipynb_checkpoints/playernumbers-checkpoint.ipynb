{
 "cells": [
  {
   "cell_type": "code",
   "execution_count": 1,
   "metadata": {},
   "outputs": [],
   "source": [
    "#import dependencies\n",
    "from bs4 import BeautifulSoup\n",
    "import requests\n",
    "import pandas as pd"
   ]
  },
  {
   "cell_type": "code",
   "execution_count": 2,
   "metadata": {},
   "outputs": [],
   "source": [
    "#identify page to scrape\n",
    "url = 'https://www.basketball-reference.com/leagues/NBA_2019_numbers.html'"
   ]
  },
  {
   "cell_type": "code",
   "execution_count": 3,
   "metadata": {},
   "outputs": [],
   "source": [
    "#make request for the page\n",
    "datapull = requests.get(url)"
   ]
  },
  {
   "cell_type": "code",
   "execution_count": 4,
   "metadata": {},
   "outputs": [],
   "source": [
    "#parse all the HTML from the request\n",
    "soup = BeautifulSoup(datapull.text, 'html.parser')"
   ]
  },
  {
   "cell_type": "code",
   "execution_count": 5,
   "metadata": {},
   "outputs": [],
   "source": [
    "#subset the numbers & names data from code inspection\n",
    "pull_uniforms = soup.find_all('table', class_='no_columns')"
   ]
  },
  {
   "cell_type": "code",
   "execution_count": 6,
   "metadata": {},
   "outputs": [],
   "source": [
    "#set series list containers to merge\n",
    "all_names = []\n",
    "all_numbers = []\n",
    "all_teams = []"
   ]
  },
  {
   "cell_type": "code",
   "execution_count": 7,
   "metadata": {},
   "outputs": [],
   "source": [
    "#set iterator starters\n",
    "u_starter=0\n",
    "n_starter=0\n",
    "\n",
    "\n",
    "#loop through uniform number & player name set\n",
    "for i in pull_uniforms:\n",
    "    \n",
    "    #pull uniform number value\n",
    "    number_pull = pull_uniforms[u_starter].find('caption', class_='poptip')\n",
    "    number_value = number_pull.contents[0]\n",
    "    \n",
    "    #pull name and team anchor text\n",
    "    names = pull_uniforms[u_starter].find_all('a')\n",
    "\n",
    "    \n",
    "    #loop separate name from team anchors\n",
    "    for j in names:\n",
    "        names_value = names[n_starter].contents[0]\n",
    "        \n",
    "        #if the text value is a name...\n",
    "        if len(names[n_starter].contents[0]) > 5 :\n",
    "            #add value to names list.\n",
    "            all_names.append(names[n_starter].contents[0])\n",
    "        #if the text value is a three-letter team...    \n",
    "        elif len(names[n_starter].contents[0]) == 3:\n",
    "            #add the team name and number to series, assuming the previous anchor was not a team name\n",
    "            if len(names[n_starter].contents[0]) != len(names[n_starter - 1].contents[0]):\n",
    "                all_teams.append(names[n_starter].contents[0])\n",
    "                all_numbers.append(number_value)\n",
    "            #if the previous anchor was a team name, copy the last recorded player name and add team and number\n",
    "            else:\n",
    "                all_names.append(all_names[-1])\n",
    "                all_teams.append(names[n_starter].contents[0])\n",
    "                all_numbers.append(number_value)\n",
    "                                                                               \n",
    "\n",
    "        #iterate to next item\n",
    "        n_starter +=1\n",
    "\n",
    "    #reset name interator\n",
    "    n_starter = 0\n",
    "    \n",
    "    #next uniform set\n",
    "    u_starter +=1"
   ]
  },
  {
   "cell_type": "code",
   "execution_count": 12,
   "metadata": {},
   "outputs": [],
   "source": [
    "#assemble dictionary from both name and number series\n",
    "name_number_dict = {'NAME': all_names, 'NUMBER': all_numbers, 'TEAM': all_teams}"
   ]
  },
  {
   "cell_type": "code",
   "execution_count": 13,
   "metadata": {},
   "outputs": [],
   "source": [
    "#convert dictionary to pandas dataframe\n",
    "df = pd.DataFrame.from_dict(name_number_dict)"
   ]
  },
  {
   "cell_type": "code",
   "execution_count": 17,
   "metadata": {},
   "outputs": [],
   "source": [
    "df = df.sort_values(by=[\"NAME\", \"TEAM\"])\n",
    "df = df.reset_index(drop=True)"
   ]
  },
  {
   "cell_type": "code",
   "execution_count": null,
   "metadata": {},
   "outputs": [],
   "source": [
    "d"
   ]
  },
  {
   "cell_type": "code",
   "execution_count": 11,
   "metadata": {},
   "outputs": [],
   "source": [
    "#export pandas dataframe to csv\n",
    "df.to_csv('playernumbers.csv')"
   ]
  }
 ],
 "metadata": {
  "kernelspec": {
   "display_name": "Python 3",
   "language": "python",
   "name": "python3"
  },
  "language_info": {
   "codemirror_mode": {
    "name": "ipython",
    "version": 3
   },
   "file_extension": ".py",
   "mimetype": "text/x-python",
   "name": "python",
   "nbconvert_exporter": "python",
   "pygments_lexer": "ipython3",
   "version": "3.7.4"
  }
 },
 "nbformat": 4,
 "nbformat_minor": 2
}
